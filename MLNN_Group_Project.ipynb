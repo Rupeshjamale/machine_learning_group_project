{
  "nbformat": 4,
  "nbformat_minor": 0,
  "metadata": {
    "colab": {
      "provenance": []
    },
    "kernelspec": {
      "name": "python3",
      "display_name": "Python 3"
    },
    "language_info": {
      "name": "python"
    }
  },
  "cells": [
    {
      "cell_type": "code",
      "execution_count": null,
      "metadata": {
        "id": "Ik618aDHH3oe"
      },
      "outputs": [],
      "source": [
        "# To mount the colab notebook to drive\n",
        "from google.colab import drive\n",
        "drive.mount('/content/gdrive')"
      ]
    },
    {
      "cell_type": "code",
      "source": [
        "# Module Imports\n",
        "import tensorflow as tf\n",
        "import numpy as np"
      ],
      "metadata": {
        "id": "-erOgHU2IGcD"
      },
      "execution_count": null,
      "outputs": []
    },
    {
      "cell_type": "code",
      "source": [
        "img = tf.keras.preprocessing.image.load_img('Group_Project_Data/Train/Real/img_0.png')\n",
        "img\n",
        "\n",
        "# Define the image directory path\n",
        "image_dir_train = \"Group_Project_Data/Train\"\n",
        "image_dir_valid = \"Group_Project_Data/Valid\"\n",
        "\n",
        "# Define the batch size\n",
        "batch_size = 32\n",
        "\n",
        "# Define the image size\n",
        "img_size = (64, 64)\n"
      ],
      "metadata": {
        "id": "7yQ1zX6kH96O"
      },
      "execution_count": null,
      "outputs": []
    },
    {
      "cell_type": "code",
      "source": [
        "# Create the dataset using the image directory path\n",
        "train_dataset = tf.keras.preprocessing.image_dataset_from_directory(\n",
        "    directory=image_dir_train,\n",
        "    labels=\"inferred\",\n",
        "    label_mode=\"binary\",\n",
        "    batch_size=batch_size,\n",
        "    image_size=img_size,\n",
        "    shuffle=True,\n",
        "    seed=123,\n",
        "    color_mode='grayscale',\n",
        ")\n",
        "\n",
        "val_dataset = tf.keras.preprocessing.image_dataset_from_directory(\n",
        "    directory=image_dir_valid,\n",
        "    labels=\"inferred\",\n",
        "    label_mode=\"binary\",\n",
        "    batch_size=batch_size,\n",
        "    image_size=img_size,\n",
        "    shuffle=True,\n",
        "    seed=123,\n",
        "    color_mode='grayscale',\n",
        ")"
      ],
      "metadata": {
        "id": "JabmL0wrICWv"
      },
      "execution_count": null,
      "outputs": []
    },
    {
      "cell_type": "code",
      "source": [
        "# Print the class names\n",
        "class_names = train_dataset.class_names\n",
        "print(class_names)\n"
      ],
      "metadata": {
        "id": "gCIrd5gPQcxG"
      },
      "execution_count": null,
      "outputs": []
    },
    {
      "cell_type": "code",
      "source": [
        "# Load the training data \n",
        "x_train = []\n",
        "y_train = []\n",
        "for images, labels in train_dataset:\n",
        "    x_train.append(images.numpy())\n",
        "    y_train.append(labels.numpy())\n",
        "\n",
        "x_train = np.concatenate(x_train, axis=0)\n",
        "y_train = np.concatenate(y_train, axis=0)\n",
        "\n"
      ],
      "metadata": {
        "id": "8ErTtBMrQmD-"
      },
      "execution_count": null,
      "outputs": []
    },
    {
      "cell_type": "code",
      "source": [
        "# Load the validation data \n",
        "x_val = []\n",
        "y_val = []\n",
        "for images, labels in val_dataset:\n",
        "    x_val.append(images.numpy())\n",
        "    y_val.append(labels.numpy())\n",
        "\n",
        "x_val = np.concatenate(x_val, axis=0)\n",
        "y_val = np.concatenate(y_val, axis=0)\n",
        "\n",
        "\n"
      ],
      "metadata": {
        "id": "TBwT6JgZQoAU"
      },
      "execution_count": null,
      "outputs": []
    },
    {
      "cell_type": "code",
      "source": [
        "# Rescale the pixel values\n",
        "x_train = x_train/255.\n",
        "x_val = x_val/255."
      ],
      "metadata": {
        "id": "3kG8d2UCQpSc"
      },
      "execution_count": null,
      "outputs": []
    }
  ]
}